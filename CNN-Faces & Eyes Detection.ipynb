{
 "cells": [
  {
   "cell_type": "code",
   "execution_count": null,
   "metadata": {},
   "outputs": [],
   "source": [
    "# import numpy library and openCV library\n",
    "import numpy as np\n",
    "import cv2"
   ]
  },
  {
   "cell_type": "code",
   "execution_count": null,
   "metadata": {},
   "outputs": [],
   "source": [
    "# we point openCV's Cascadeclassifier function to where our\n",
    "# classifier(XML file format)is stored\n",
    "face_classifier=cv2.CascadeClassifier('C://Users//admin//Desktop//Software//Python Codes//images//haarcascade_frontalface_default.xml')"
   ]
  },
  {
   "cell_type": "code",
   "execution_count": null,
   "metadata": {},
   "outputs": [],
   "source": [
    "#Load our image then covert it to grayscale\n",
    "image=cv2.imread('obama.jpg')\n",
    "gray=cv2.cvtColor(image,cv2.COLOR_BGR2GRAY)"
   ]
  },
  {
   "cell_type": "code",
   "execution_count": null,
   "metadata": {},
   "outputs": [],
   "source": [
    "# our classifier retunrs the ROI of the detected face as a tuple\n",
    "# It stores the top left coordtinate and the bottom right coordinate\n",
    "faces=face_classifier.detectMultiScale(gray,1.2,5)"
   ]
  },
  {
   "cell_type": "code",
   "execution_count": null,
   "metadata": {},
   "outputs": [],
   "source": [
    "# when no faces detected ,face_calssifier returns and empty \n",
    "if faces is():\n",
    "    print(\"No faces found\")"
   ]
  },
  {
   "cell_type": "code",
   "execution_count": null,
   "metadata": {},
   "outputs": [],
   "source": [
    "# we iterate through our faces array and draw a rectangle\n",
    "# over each face in faces\n",
    "\n",
    "for (x,y,w,h)in faces:\n",
    "    cv2.rectangle(image,(x,y),(x+w,y+h),(128,0,244),2)\n",
    "    \n",
    "    cv2.imshow('Face Detection',image)\n",
    "    cv2.waitKey(0)\n",
    "cv2.destroyAllWindows()"
   ]
  },
  {
   "cell_type": "markdown",
   "metadata": {},
   "source": [
    "# Eyes Detection"
   ]
  },
  {
   "cell_type": "code",
   "execution_count": null,
   "metadata": {},
   "outputs": [],
   "source": [
    "# we point openCV's Cascadeclassifier function to where our\n",
    "# classifier(XML file format)is stored\n",
    "eye_classifier=cv2.CascadeClassifier('C://Users//admin//Desktop//Software//Python Codes//images//haarcascade_eye.xml')"
   ]
  },
  {
   "cell_type": "code",
   "execution_count": null,
   "metadata": {},
   "outputs": [],
   "source": [
    "#Load our image then covert it to grayscale\n",
    "image=cv2.imread('Hillary.jpg')\n",
    "gray=cv2.cvtColor(image,cv2.COLOR_BGR2GRAY)"
   ]
  },
  {
   "cell_type": "code",
   "execution_count": null,
   "metadata": {},
   "outputs": [],
   "source": [
    "# our classifier retunrs the ROI of the detected face as a tuple\n",
    "# It stores the top left coordtinate and the bottom right coordinate\n",
    "eyes=eye_classifier.detectMultiScale(gray,2.5,5)"
   ]
  },
  {
   "cell_type": "code",
   "execution_count": null,
   "metadata": {},
   "outputs": [],
   "source": [
    "# when no Eyes detected ,face_calssifier returns and empty\n",
    "if eyes is():\n",
    "    print(\"No eyes found\")"
   ]
  },
  {
   "cell_type": "code",
   "execution_count": null,
   "metadata": {},
   "outputs": [],
   "source": [
    "# we iterate through our eyes array and draw a rectangle\n",
    "# over each eye in eyes\n",
    "for (x,y,w,h)in eyes:\n",
    "    cv2.rectangle(image,(x,y),(x+w,y+h),(128,0,244),2)\n",
    "    \n",
    "    cv2.imshow('Eye Detection',image)\n",
    "    cv2.waitKey(0)\n",
    "cv2.destroyAllWindows()"
   ]
  }
 ],
 "metadata": {
  "kernelspec": {
   "display_name": "Python 3",
   "language": "python",
   "name": "python3"
  },
  "language_info": {
   "codemirror_mode": {
    "name": "ipython",
    "version": 3
   },
   "file_extension": ".py",
   "mimetype": "text/x-python",
   "name": "python",
   "nbconvert_exporter": "python",
   "pygments_lexer": "ipython3",
   "version": "3.7.3"
  }
 },
 "nbformat": 4,
 "nbformat_minor": 2
}
